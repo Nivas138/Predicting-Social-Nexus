{
 "cells": [
  {
   "cell_type": "code",
   "execution_count": null,
   "metadata": {},
   "outputs": [],
   "source": [
    "import tweepy\n",
    "from tweepy import OAuthHandler\n",
    " \n",
    "consumer_key = '70K9Xv549k0HNty0dvTGx5Tpz'\n",
    "consumer_secret = 'N6zvALwa6d5LCF0VqfCuvWfOFQkqsHblU3yw2XXZUZqWZaGH4v'\n",
    "access_token = '3170648335-NVnmWZTNwsFAbgrPC1lh4vJ0CA9mipLNFXvSN6x'\n",
    "access_secret = 'U7sqL0mKO4uypD6sI34DOZxAAgdvfCp1WJYhckoiUNneB'\n",
    " \n",
    "auth = OAuthHandler(consumer_key, consumer_secret)\n",
    "auth.set_access_token(access_token, access_secret)\n",
    " \n",
    "api = tweepy.API(auth)\n",
    "for status in tweepy.Cursor(api.home_timeline).items(10):\n",
    "    # Process a single status\n",
    "    print(status.text)"
   ]
  }
 ],
 "metadata": {
  "kernelspec": {
   "display_name": "Python 3",
   "language": "python",
   "name": "python3"
  },
  "language_info": {
   "codemirror_mode": {
    "name": "ipython",
    "version": 3
   },
   "file_extension": ".py",
   "mimetype": "text/x-python",
   "name": "python",
   "nbconvert_exporter": "python",
   "pygments_lexer": "ipython3",
   "version": "3.6.5"
  }
 },
 "nbformat": 4,
 "nbformat_minor": 2
}
