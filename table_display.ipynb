import sqlite3
import pandas as pds
import numpy as nump
from sklearn.cluster import KMeans
from sklearn.preprocessing import scale


# Create your connection.
conn = sqlite3.connect('tweet_1102.db')
df = pds.read_sql_query("SELECT * FROM tweet_1102", conn)

#df.columns

#df.describe().transpose()

#df 